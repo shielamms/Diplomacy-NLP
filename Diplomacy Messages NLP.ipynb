{
 "cells": [
  {
   "cell_type": "code",
   "execution_count": 59,
   "id": "09c2a5a7",
   "metadata": {},
   "outputs": [],
   "source": [
    "import json\n",
    "import nltk\n",
    "import re\n",
    "import string\n",
    "import pandas as pd\n",
    "import numpy as np\n",
    "from sklearn import svm\n",
    "from nltk.stem import WordNetLemmatizer\n",
    "from sklearn.feature_extraction.text import TfidfVectorizer\n",
    "from sklearn.metrics import classification_report\n",
    "from imblearn.over_sampling import SMOTE"
   ]
  },
  {
   "cell_type": "code",
   "execution_count": 60,
   "id": "d412047c",
   "metadata": {},
   "outputs": [],
   "source": [
    "import warnings\n",
    "warnings.filterwarnings('ignore')"
   ]
  },
  {
   "cell_type": "code",
   "execution_count": 61,
   "id": "e678dcb5",
   "metadata": {},
   "outputs": [],
   "source": [
    "target_columns = ['messages', 'sender_labels', 'receiver_labels',\n",
    "                  'speakers', 'receivers', 'absolute_message_index',\n",
    "                  'seasons', 'years', 'game_id']\n",
    "\n",
    "stopwords = nltk.corpus.stopwords.words('english')\n",
    "punctuations = string.punctuation + '\\’\\”.'"
   ]
  },
  {
   "cell_type": "code",
   "execution_count": 62,
   "id": "2c179d8b",
   "metadata": {},
   "outputs": [],
   "source": [
    "def read_messages_from_file(filename):\n",
    "    games = []\n",
    "\n",
    "    with open('data/' + filename) as f:\n",
    "        for line in f:\n",
    "            game = json.loads(line)\n",
    "            games.append(game)\n",
    "            \n",
    "    df = pd.DataFrame(games)\n",
    "    df = df[target_columns]\n",
    "    df = df.set_index('game_id').apply(pd.Series.explode).reset_index()\n",
    "    df = df.drop(df.loc[df['sender_labels'].isnull()].index)\n",
    "    return df"
   ]
  },
  {
   "cell_type": "code",
   "execution_count": 63,
   "id": "c34719bc",
   "metadata": {},
   "outputs": [
    {
     "data": {
      "text/html": [
       "<div>\n",
       "<style scoped>\n",
       "    .dataframe tbody tr th:only-of-type {\n",
       "        vertical-align: middle;\n",
       "    }\n",
       "\n",
       "    .dataframe tbody tr th {\n",
       "        vertical-align: top;\n",
       "    }\n",
       "\n",
       "    .dataframe thead th {\n",
       "        text-align: right;\n",
       "    }\n",
       "</style>\n",
       "<table border=\"1\" class=\"dataframe\">\n",
       "  <thead>\n",
       "    <tr style=\"text-align: right;\">\n",
       "      <th></th>\n",
       "      <th>game_id</th>\n",
       "      <th>messages</th>\n",
       "      <th>sender_labels</th>\n",
       "      <th>receiver_labels</th>\n",
       "      <th>speakers</th>\n",
       "      <th>receivers</th>\n",
       "      <th>absolute_message_index</th>\n",
       "      <th>seasons</th>\n",
       "      <th>years</th>\n",
       "    </tr>\n",
       "  </thead>\n",
       "  <tbody>\n",
       "    <tr>\n",
       "      <th>0</th>\n",
       "      <td>1</td>\n",
       "      <td>Germany!\\n\\nJust the person I want to speak wi...</td>\n",
       "      <td>True</td>\n",
       "      <td>True</td>\n",
       "      <td>italy</td>\n",
       "      <td>germany</td>\n",
       "      <td>74</td>\n",
       "      <td>Spring</td>\n",
       "      <td>1901</td>\n",
       "    </tr>\n",
       "    <tr>\n",
       "      <th>1</th>\n",
       "      <td>1</td>\n",
       "      <td>You've whet my appetite, Italy. What's the sug...</td>\n",
       "      <td>True</td>\n",
       "      <td>True</td>\n",
       "      <td>germany</td>\n",
       "      <td>italy</td>\n",
       "      <td>76</td>\n",
       "      <td>Spring</td>\n",
       "      <td>1901</td>\n",
       "    </tr>\n",
       "    <tr>\n",
       "      <th>2</th>\n",
       "      <td>1</td>\n",
       "      <td>👍</td>\n",
       "      <td>True</td>\n",
       "      <td>True</td>\n",
       "      <td>italy</td>\n",
       "      <td>germany</td>\n",
       "      <td>86</td>\n",
       "      <td>Spring</td>\n",
       "      <td>1901</td>\n",
       "    </tr>\n",
       "    <tr>\n",
       "      <th>3</th>\n",
       "      <td>1</td>\n",
       "      <td>It seems like there are a lot of ways that cou...</td>\n",
       "      <td>True</td>\n",
       "      <td>True</td>\n",
       "      <td>germany</td>\n",
       "      <td>italy</td>\n",
       "      <td>87</td>\n",
       "      <td>Spring</td>\n",
       "      <td>1901</td>\n",
       "    </tr>\n",
       "    <tr>\n",
       "      <th>4</th>\n",
       "      <td>1</td>\n",
       "      <td>Yeah, I can’t say I’ve tried it and it works, ...</td>\n",
       "      <td>True</td>\n",
       "      <td>NOANNOTATION</td>\n",
       "      <td>italy</td>\n",
       "      <td>germany</td>\n",
       "      <td>89</td>\n",
       "      <td>Spring</td>\n",
       "      <td>1901</td>\n",
       "    </tr>\n",
       "    <tr>\n",
       "      <th>...</th>\n",
       "      <td>...</td>\n",
       "      <td>...</td>\n",
       "      <td>...</td>\n",
       "      <td>...</td>\n",
       "      <td>...</td>\n",
       "      <td>...</td>\n",
       "      <td>...</td>\n",
       "      <td>...</td>\n",
       "      <td>...</td>\n",
       "    </tr>\n",
       "    <tr>\n",
       "      <th>2614</th>\n",
       "      <td>1</td>\n",
       "      <td>Hi turkey, how do you feel about your neighbor...</td>\n",
       "      <td>True</td>\n",
       "      <td>True</td>\n",
       "      <td>france</td>\n",
       "      <td>turkey</td>\n",
       "      <td>26</td>\n",
       "      <td>Spring</td>\n",
       "      <td>1901</td>\n",
       "    </tr>\n",
       "    <tr>\n",
       "      <th>2615</th>\n",
       "      <td>1</td>\n",
       "      <td>Well yeah depends on the neighbors</td>\n",
       "      <td>True</td>\n",
       "      <td>True</td>\n",
       "      <td>turkey</td>\n",
       "      <td>france</td>\n",
       "      <td>42</td>\n",
       "      <td>Spring</td>\n",
       "      <td>1901</td>\n",
       "    </tr>\n",
       "    <tr>\n",
       "      <th>2616</th>\n",
       "      <td>1</td>\n",
       "      <td>Any additional thoughts after negotiations by ...</td>\n",
       "      <td>True</td>\n",
       "      <td>True</td>\n",
       "      <td>france</td>\n",
       "      <td>turkey</td>\n",
       "      <td>140</td>\n",
       "      <td>Spring</td>\n",
       "      <td>1901</td>\n",
       "    </tr>\n",
       "    <tr>\n",
       "      <th>2617</th>\n",
       "      <td>1</td>\n",
       "      <td>No not yet everyone seems rather tepid</td>\n",
       "      <td>True</td>\n",
       "      <td>True</td>\n",
       "      <td>turkey</td>\n",
       "      <td>france</td>\n",
       "      <td>155</td>\n",
       "      <td>Fall</td>\n",
       "      <td>1901</td>\n",
       "    </tr>\n",
       "    <tr>\n",
       "      <th>2618</th>\n",
       "      <td>1</td>\n",
       "      <td>Yeah, that's true.</td>\n",
       "      <td>True</td>\n",
       "      <td>True</td>\n",
       "      <td>france</td>\n",
       "      <td>turkey</td>\n",
       "      <td>165</td>\n",
       "      <td>Fall</td>\n",
       "      <td>1901</td>\n",
       "    </tr>\n",
       "  </tbody>\n",
       "</table>\n",
       "<p>2618 rows × 9 columns</p>\n",
       "</div>"
      ],
      "text/plain": [
       "      game_id                                           messages  \\\n",
       "0           1  Germany!\\n\\nJust the person I want to speak wi...   \n",
       "1           1  You've whet my appetite, Italy. What's the sug...   \n",
       "2           1                                                  👍   \n",
       "3           1  It seems like there are a lot of ways that cou...   \n",
       "4           1  Yeah, I can’t say I’ve tried it and it works, ...   \n",
       "...       ...                                                ...   \n",
       "2614        1  Hi turkey, how do you feel about your neighbor...   \n",
       "2615        1                 Well yeah depends on the neighbors   \n",
       "2616        1  Any additional thoughts after negotiations by ...   \n",
       "2617        1             No not yet everyone seems rather tepid   \n",
       "2618        1                                 Yeah, that's true.   \n",
       "\n",
       "     sender_labels receiver_labels speakers receivers absolute_message_index  \\\n",
       "0             True            True    italy   germany                     74   \n",
       "1             True            True  germany     italy                     76   \n",
       "2             True            True    italy   germany                     86   \n",
       "3             True            True  germany     italy                     87   \n",
       "4             True    NOANNOTATION    italy   germany                     89   \n",
       "...            ...             ...      ...       ...                    ...   \n",
       "2614          True            True   france    turkey                     26   \n",
       "2615          True            True   turkey    france                     42   \n",
       "2616          True            True   france    turkey                    140   \n",
       "2617          True            True   turkey    france                    155   \n",
       "2618          True            True   france    turkey                    165   \n",
       "\n",
       "     seasons years  \n",
       "0     Spring  1901  \n",
       "1     Spring  1901  \n",
       "2     Spring  1901  \n",
       "3     Spring  1901  \n",
       "4     Spring  1901  \n",
       "...      ...   ...  \n",
       "2614  Spring  1901  \n",
       "2615  Spring  1901  \n",
       "2616  Spring  1901  \n",
       "2617    Fall  1901  \n",
       "2618    Fall  1901  \n",
       "\n",
       "[2618 rows x 9 columns]"
      ]
     },
     "execution_count": 63,
     "metadata": {},
     "output_type": "execute_result"
    }
   ],
   "source": [
    "train_df = read_messages_from_file('train.jsonl')\n",
    "train_df.loc[train_df['game_id'] == 1]"
   ]
  },
  {
   "cell_type": "code",
   "execution_count": 6,
   "id": "9999dce9",
   "metadata": {},
   "outputs": [
    {
     "data": {
      "text/plain": [
       "array([True, False], dtype=object)"
      ]
     },
     "execution_count": 6,
     "metadata": {},
     "output_type": "execute_result"
    }
   ],
   "source": [
    "train_df['sender_labels'].unique()"
   ]
  },
  {
   "cell_type": "code",
   "execution_count": 37,
   "id": "9c297a1b",
   "metadata": {},
   "outputs": [
    {
     "data": {
      "text/plain": [
       "2"
      ]
     },
     "execution_count": 37,
     "metadata": {},
     "output_type": "execute_result"
    }
   ],
   "source": [
    "labels_col = train_df['sender_labels']\n",
    "len(labels_col.unique())\n",
    "\n",
    "# len(train_df['sender_labels'].unique()) == 2"
   ]
  },
  {
   "cell_type": "code",
   "execution_count": 7,
   "id": "bc257cf0",
   "metadata": {},
   "outputs": [],
   "source": [
    "def remove_emojis(message):\n",
    "    emoji_pattern = re.compile(\n",
    "                pattern = u\"[\\U0001F600-\\U0001F64F\"     # emoticons\n",
    "                            \"\\U0001F300-\\U0001F5FF\"     # symbols & pictographs\n",
    "                            \"\\U0001F680-\\U0001F6FF\"     # transport & map symbols\n",
    "                            \"\\U0001F1E0-\\U0001FAD6]+\",  # flags (iOS)\n",
    "                flags = re.UNICODE)\n",
    "    return emoji_pattern.sub(r'', message)"
   ]
  },
  {
   "cell_type": "code",
   "execution_count": 8,
   "id": "7c769c12",
   "metadata": {},
   "outputs": [],
   "source": [
    "def clean_message(message):\n",
    "    message = (message.replace('\\n', ' ')\n",
    "                      .replace('-', ' - ')\n",
    "                      .replace('...', ' ')\n",
    "                      .replace('???', '?')\n",
    "              )\n",
    "    message = remove_emojis(message)\n",
    "    \n",
    "    return message.strip()"
   ]
  },
  {
   "cell_type": "code",
   "execution_count": 9,
   "id": "29d54ff5",
   "metadata": {},
   "outputs": [],
   "source": [
    "train_df['messages'] = train_df['messages'].apply(lambda x: clean_message(x))\n",
    "train_df = train_df.drop(train_df.loc[train_df['messages'] == ''].index)"
   ]
  },
  {
   "cell_type": "code",
   "execution_count": 10,
   "id": "81ff2b11",
   "metadata": {},
   "outputs": [
    {
     "data": {
      "text/plain": [
       "0        Germany!  Just the person I want to speak with...\n",
       "1        You've whet my appetite, Italy. What's the sug...\n",
       "3        It seems like there are a lot of ways that cou...\n",
       "4        Yeah, I can’t say I’ve tried it and it works, ...\n",
       "5        I am just sensing that you don’t like this ide...\n",
       "                               ...                        \n",
       "13131    Is there any way of me actually ending this co...\n",
       "13132        Can we agree on peace? What are your demands?\n",
       "13133    Neutrality in exchange for current holdings, S...\n",
       "13134    Thats a bit too much, can I keep Spain and i h...\n",
       "13135                                           Any deals?\n",
       "Name: messages, Length: 13091, dtype: object"
      ]
     },
     "execution_count": 10,
     "metadata": {},
     "output_type": "execute_result"
    }
   ],
   "source": [
    "train_df['messages']"
   ]
  },
  {
   "cell_type": "code",
   "execution_count": 11,
   "id": "7247ecfe",
   "metadata": {},
   "outputs": [
    {
     "data": {
      "text/plain": [
       "True     12502\n",
       "False      589\n",
       "Name: sender_labels, dtype: int64"
      ]
     },
     "execution_count": 11,
     "metadata": {},
     "output_type": "execute_result"
    }
   ],
   "source": [
    "# Check if labels are balanced\n",
    "train_df['sender_labels'].value_counts()  #highly unbalanced"
   ]
  },
  {
   "cell_type": "code",
   "execution_count": 12,
   "id": "ddac30d2",
   "metadata": {},
   "outputs": [],
   "source": [
    "# train_labels = train_df['sender_labels']\n",
    "# train_df = train_df.drop(['sender_labels'], axis=1)"
   ]
  },
  {
   "cell_type": "code",
   "execution_count": 13,
   "id": "f4880661",
   "metadata": {},
   "outputs": [],
   "source": [
    "# train_df.shape, train_labels.shape"
   ]
  },
  {
   "cell_type": "code",
   "execution_count": 14,
   "id": "d94840e5",
   "metadata": {},
   "outputs": [],
   "source": [
    "# train_labels = train_labels.values.reshape((len(train_labels), 1)).astype(int)"
   ]
  },
  {
   "cell_type": "code",
   "execution_count": 15,
   "id": "cf142796",
   "metadata": {},
   "outputs": [],
   "source": [
    "# train_labels.shape"
   ]
  },
  {
   "cell_type": "code",
   "execution_count": 16,
   "id": "5731ca1d",
   "metadata": {},
   "outputs": [],
   "source": [
    "# oversampler = SMOTE(random_state=2)\n",
    "# X, y = oversampler.fit_resample(train_df, train_labels.ravel())"
   ]
  },
  {
   "cell_type": "code",
   "execution_count": null,
   "id": "0d648835",
   "metadata": {},
   "outputs": [],
   "source": []
  },
  {
   "cell_type": "code",
   "execution_count": 17,
   "id": "35ae2035",
   "metadata": {},
   "outputs": [],
   "source": [
    "def tokenize_and_remove_stopwords(message):\n",
    "    tokens = nltk.tokenize.casual.casual_tokenize(message, reduce_len=True)\n",
    "    tokens = [t for t in tokens if t not in stopwords and t not in punctuations]\n",
    "\n",
    "    return tokens"
   ]
  },
  {
   "cell_type": "code",
   "execution_count": 18,
   "id": "01e2d962",
   "metadata": {},
   "outputs": [],
   "source": [
    "def create_vectorizer(training_data):\n",
    "    vectorizer = TfidfVectorizer(max_df=0.90,\n",
    "                                 max_features=100000,\n",
    "                                 min_df=0.05,\n",
    "                                 stop_words=stopwords,\n",
    "                                 use_idf=True,\n",
    "                                 tokenizer=tokenize_and_remove_stopwords,\n",
    "                                 ngram_range=(1,3)\n",
    "                                )\n",
    "    vectorizer.fit_transform(training_data)\n",
    "    return vectorizer"
   ]
  },
  {
   "cell_type": "code",
   "execution_count": 19,
   "id": "a735e9d2",
   "metadata": {},
   "outputs": [],
   "source": [
    "def train_message_classifier(X_train, y_train):\n",
    "    classifier = svm.SVC(C=1, kernel='linear', decision_function_shape='ovo')\n",
    "    classifier.fit(X_train, y_train)\n",
    "    return classifier"
   ]
  },
  {
   "cell_type": "code",
   "execution_count": 20,
   "id": "c789f3e7",
   "metadata": {},
   "outputs": [],
   "source": [
    "vectorizer = create_vectorizer(train_df['messages'])\n",
    "training_matrix = vectorizer.transform(train_df['messages']).todense()"
   ]
  },
  {
   "cell_type": "code",
   "execution_count": 21,
   "id": "1b0028f5",
   "metadata": {},
   "outputs": [],
   "source": [
    "oversampler = SMOTE(sampling_strategy='minority', k_neighbors=5)\n",
    "\n",
    "train_labels = train_df['sender_labels'].astype(int)\n",
    "X, y = oversampler.fit_resample(training_matrix, train_labels.ravel())"
   ]
  },
  {
   "cell_type": "code",
   "execution_count": null,
   "id": "365a97af",
   "metadata": {},
   "outputs": [],
   "source": []
  },
  {
   "cell_type": "code",
   "execution_count": 22,
   "id": "78c09c71",
   "metadata": {},
   "outputs": [
    {
     "data": {
      "text/plain": [
       "Counter({1: 12502, 0: 12502})"
      ]
     },
     "execution_count": 22,
     "metadata": {},
     "output_type": "execute_result"
    }
   ],
   "source": [
    "from collections import Counter\n",
    "counter = Counter(y)\n",
    "counter"
   ]
  },
  {
   "cell_type": "code",
   "execution_count": null,
   "id": "7bde1abc",
   "metadata": {},
   "outputs": [],
   "source": []
  },
  {
   "cell_type": "code",
   "execution_count": 23,
   "id": "b146dca1",
   "metadata": {},
   "outputs": [],
   "source": [
    "classifier = train_message_classifier(X, y)"
   ]
  },
  {
   "cell_type": "code",
   "execution_count": null,
   "id": "b6b47532",
   "metadata": {},
   "outputs": [],
   "source": []
  },
  {
   "cell_type": "code",
   "execution_count": 24,
   "id": "ac287bcd",
   "metadata": {},
   "outputs": [],
   "source": [
    "def evaluate(classifier, messages, real_labels):\n",
    "    validation_matrix = vectorizer.transform(messages).todense()\n",
    "    predictions = classifier.predict(validation_matrix)\n",
    "    predictions = [bool(p) for p in list(predictions)]\n",
    "\n",
    "    df = pd.DataFrame({\n",
    "        'Messages': messages,\n",
    "        'Prediction': predictions,\n",
    "        'Reality': real_labels,\n",
    "    })\n",
    "    \n",
    "#     print(type(predictions), type(real_labels))\n",
    "    print(classification_report(list(real_labels), predictions))\n",
    "    \n",
    "    return df"
   ]
  },
  {
   "cell_type": "code",
   "execution_count": null,
   "id": "89acb3bb",
   "metadata": {},
   "outputs": [],
   "source": []
  },
  {
   "cell_type": "markdown",
   "id": "80ed37b7",
   "metadata": {},
   "source": [
    "### Validate"
   ]
  },
  {
   "cell_type": "code",
   "execution_count": 29,
   "id": "35e7c0c7",
   "metadata": {},
   "outputs": [],
   "source": [
    "val_df = read_messages_from_file('validation.jsonl')"
   ]
  },
  {
   "cell_type": "code",
   "execution_count": 30,
   "id": "bfaea91c",
   "metadata": {},
   "outputs": [
    {
     "name": "stdout",
     "output_type": "stream",
     "text": [
      "              precision    recall  f1-score   support\n",
      "\n",
      "       False       0.06      0.59      0.11        56\n",
      "        True       0.97      0.62      0.76      1360\n",
      "\n",
      "    accuracy                           0.62      1416\n",
      "   macro avg       0.52      0.61      0.43      1416\n",
      "weighted avg       0.94      0.62      0.73      1416\n",
      "\n"
     ]
    }
   ],
   "source": [
    "val_results = evaluate(classifier, val_df['messages'], val_df['sender_labels'])"
   ]
  },
  {
   "cell_type": "code",
   "execution_count": 31,
   "id": "9ee5f469",
   "metadata": {},
   "outputs": [
    {
     "data": {
      "text/html": [
       "<div>\n",
       "<style scoped>\n",
       "    .dataframe tbody tr th:only-of-type {\n",
       "        vertical-align: middle;\n",
       "    }\n",
       "\n",
       "    .dataframe tbody tr th {\n",
       "        vertical-align: top;\n",
       "    }\n",
       "\n",
       "    .dataframe thead th {\n",
       "        text-align: right;\n",
       "    }\n",
       "</style>\n",
       "<table border=\"1\" class=\"dataframe\">\n",
       "  <thead>\n",
       "    <tr style=\"text-align: right;\">\n",
       "      <th></th>\n",
       "      <th>Messages</th>\n",
       "      <th>Prediction</th>\n",
       "      <th>Reality</th>\n",
       "    </tr>\n",
       "  </thead>\n",
       "  <tbody>\n",
       "    <tr>\n",
       "      <th>163</th>\n",
       "      <td>Neither of us have a good reason to stab you, ...</td>\n",
       "      <td>False</td>\n",
       "      <td>False</td>\n",
       "    </tr>\n",
       "    <tr>\n",
       "      <th>165</th>\n",
       "      <td>I’ll do that, it keeps turkey from snagging Gre</td>\n",
       "      <td>True</td>\n",
       "      <td>False</td>\n",
       "    </tr>\n",
       "    <tr>\n",
       "      <th>167</th>\n",
       "      <td>So am I, I’d expect they go through me before ...</td>\n",
       "      <td>True</td>\n",
       "      <td>False</td>\n",
       "    </tr>\n",
       "    <tr>\n",
       "      <th>304</th>\n",
       "      <td>I would say Trieste, Greece to me, and then Se...</td>\n",
       "      <td>True</td>\n",
       "      <td>False</td>\n",
       "    </tr>\n",
       "    <tr>\n",
       "      <th>333</th>\n",
       "      <td>On the other hand, I’m not sure I want to atta...</td>\n",
       "      <td>False</td>\n",
       "      <td>False</td>\n",
       "    </tr>\n",
       "    <tr>\n",
       "      <th>404</th>\n",
       "      <td>I also thought I would let you know that I hea...</td>\n",
       "      <td>False</td>\n",
       "      <td>False</td>\n",
       "    </tr>\n",
       "    <tr>\n",
       "      <th>405</th>\n",
       "      <td>So... I guess your new? What do you think abou...</td>\n",
       "      <td>False</td>\n",
       "      <td>False</td>\n",
       "    </tr>\n",
       "    <tr>\n",
       "      <th>421</th>\n",
       "      <td>While that might be true, what would you sugge...</td>\n",
       "      <td>True</td>\n",
       "      <td>False</td>\n",
       "    </tr>\n",
       "    <tr>\n",
       "      <th>429</th>\n",
       "      <td>I am willing to concede it to you if you coope...</td>\n",
       "      <td>True</td>\n",
       "      <td>False</td>\n",
       "    </tr>\n",
       "    <tr>\n",
       "      <th>430</th>\n",
       "      <td>Hmm. I messaged austria, and they didn't respo...</td>\n",
       "      <td>False</td>\n",
       "      <td>False</td>\n",
       "    </tr>\n",
       "    <tr>\n",
       "      <th>432</th>\n",
       "      <td>If we demilitarize and I can focus on recaptur...</td>\n",
       "      <td>True</td>\n",
       "      <td>False</td>\n",
       "    </tr>\n",
       "    <tr>\n",
       "      <th>433</th>\n",
       "      <td>Ok, I didn't think Germany would betray me but...</td>\n",
       "      <td>False</td>\n",
       "      <td>False</td>\n",
       "    </tr>\n",
       "    <tr>\n",
       "      <th>630</th>\n",
       "      <td>Well, probably going to finish off the Brits, ...</td>\n",
       "      <td>False</td>\n",
       "      <td>False</td>\n",
       "    </tr>\n",
       "    <tr>\n",
       "      <th>662</th>\n",
       "      <td>There is no way that I can, no way turkey does...</td>\n",
       "      <td>True</td>\n",
       "      <td>False</td>\n",
       "    </tr>\n",
       "    <tr>\n",
       "      <th>678</th>\n",
       "      <td>Why would I do that?</td>\n",
       "      <td>True</td>\n",
       "      <td>False</td>\n",
       "    </tr>\n",
       "    <tr>\n",
       "      <th>744</th>\n",
       "      <td>Also, you working with the Turks? I can help h...</td>\n",
       "      <td>True</td>\n",
       "      <td>False</td>\n",
       "    </tr>\n",
       "    <tr>\n",
       "      <th>746</th>\n",
       "      <td>Of course, can I get Vienna?</td>\n",
       "      <td>False</td>\n",
       "      <td>False</td>\n",
       "    </tr>\n",
       "    <tr>\n",
       "      <th>750</th>\n",
       "      <td>I am so friggin' sorry, I was toying around wi...</td>\n",
       "      <td>True</td>\n",
       "      <td>False</td>\n",
       "    </tr>\n",
       "    <tr>\n",
       "      <th>752</th>\n",
       "      <td>Well that's France, of course they would tell ...</td>\n",
       "      <td>True</td>\n",
       "      <td>False</td>\n",
       "    </tr>\n",
       "    <tr>\n",
       "      <th>771</th>\n",
       "      <td>I don't trust the French not to try to play me...</td>\n",
       "      <td>False</td>\n",
       "      <td>False</td>\n",
       "    </tr>\n",
       "    <tr>\n",
       "      <th>773</th>\n",
       "      <td>On second thought, the fact that the French do...</td>\n",
       "      <td>True</td>\n",
       "      <td>False</td>\n",
       "    </tr>\n",
       "    <tr>\n",
       "      <th>780</th>\n",
       "      <td>Look man, the French have been pretty agreeabl...</td>\n",
       "      <td>True</td>\n",
       "      <td>False</td>\n",
       "    </tr>\n",
       "    <tr>\n",
       "      <th>815</th>\n",
       "      <td>You working with the Russians? If so I can def...</td>\n",
       "      <td>True</td>\n",
       "      <td>False</td>\n",
       "    </tr>\n",
       "    <tr>\n",
       "      <th>845</th>\n",
       "      <td>I’m a little hesitant to go after Austria righ...</td>\n",
       "      <td>True</td>\n",
       "      <td>False</td>\n",
       "    </tr>\n",
       "    <tr>\n",
       "      <th>865</th>\n",
       "      <td>I spoke to England and they don't seem like a ...</td>\n",
       "      <td>False</td>\n",
       "      <td>False</td>\n",
       "    </tr>\n",
       "    <tr>\n",
       "      <th>874</th>\n",
       "      <td>I don't trust the French not to try to play me...</td>\n",
       "      <td>False</td>\n",
       "      <td>False</td>\n",
       "    </tr>\n",
       "    <tr>\n",
       "      <th>886</th>\n",
       "      <td>To be honest I wouldn't be to worried about Ru...</td>\n",
       "      <td>False</td>\n",
       "      <td>False</td>\n",
       "    </tr>\n",
       "    <tr>\n",
       "      <th>907</th>\n",
       "      <td>Sent it along, in my own words.</td>\n",
       "      <td>True</td>\n",
       "      <td>False</td>\n",
       "    </tr>\n",
       "    <tr>\n",
       "      <th>966</th>\n",
       "      <td>Do you still want belgium? At this point our b...</td>\n",
       "      <td>False</td>\n",
       "      <td>False</td>\n",
       "    </tr>\n",
       "    <tr>\n",
       "      <th>1025</th>\n",
       "      <td>Yes</td>\n",
       "      <td>True</td>\n",
       "      <td>False</td>\n",
       "    </tr>\n",
       "    <tr>\n",
       "      <th>1027</th>\n",
       "      <td>I could also support you if you want to do it ...</td>\n",
       "      <td>False</td>\n",
       "      <td>False</td>\n",
       "    </tr>\n",
       "    <tr>\n",
       "      <th>1036</th>\n",
       "      <td>Okay great, I’ll head into Rum then</td>\n",
       "      <td>True</td>\n",
       "      <td>False</td>\n",
       "    </tr>\n",
       "    <tr>\n",
       "      <th>1045</th>\n",
       "      <td>I’ll move Ser in</td>\n",
       "      <td>True</td>\n",
       "      <td>False</td>\n",
       "    </tr>\n",
       "    <tr>\n",
       "      <th>1050</th>\n",
       "      <td>If you think I should then I will</td>\n",
       "      <td>False</td>\n",
       "      <td>False</td>\n",
       "    </tr>\n",
       "    <tr>\n",
       "      <th>1116</th>\n",
       "      <td>Yeah you as well, it’s good to find people tha...</td>\n",
       "      <td>False</td>\n",
       "      <td>False</td>\n",
       "    </tr>\n",
       "    <tr>\n",
       "      <th>1177</th>\n",
       "      <td>Okay it’s all good</td>\n",
       "      <td>False</td>\n",
       "      <td>False</td>\n",
       "    </tr>\n",
       "    <tr>\n",
       "      <th>1199</th>\n",
       "      <td>I mean, sure. Which unit is going in? I can su...</td>\n",
       "      <td>False</td>\n",
       "      <td>False</td>\n",
       "    </tr>\n",
       "    <tr>\n",
       "      <th>1201</th>\n",
       "      <td>Gal is going in</td>\n",
       "      <td>False</td>\n",
       "      <td>False</td>\n",
       "    </tr>\n",
       "    <tr>\n",
       "      <th>1203</th>\n",
       "      <td>Are you coordinating with him? I’d just dislod...</td>\n",
       "      <td>False</td>\n",
       "      <td>False</td>\n",
       "    </tr>\n",
       "    <tr>\n",
       "      <th>1206</th>\n",
       "      <td>I’m still not sure</td>\n",
       "      <td>True</td>\n",
       "      <td>False</td>\n",
       "    </tr>\n",
       "    <tr>\n",
       "      <th>1228</th>\n",
       "      <td>Not probable, but possible.  but it makes sens...</td>\n",
       "      <td>True</td>\n",
       "      <td>False</td>\n",
       "    </tr>\n",
       "    <tr>\n",
       "      <th>1247</th>\n",
       "      <td>Germany is asking for support into Moscow.</td>\n",
       "      <td>False</td>\n",
       "      <td>False</td>\n",
       "    </tr>\n",
       "    <tr>\n",
       "      <th>1300</th>\n",
       "      <td>Yeah, how about germany? I’ve been talking to ...</td>\n",
       "      <td>True</td>\n",
       "      <td>False</td>\n",
       "    </tr>\n",
       "    <tr>\n",
       "      <th>1305</th>\n",
       "      <td>Thanks. I would like you to re-consider my pro...</td>\n",
       "      <td>False</td>\n",
       "      <td>False</td>\n",
       "    </tr>\n",
       "    <tr>\n",
       "      <th>1311</th>\n",
       "      <td>Just wanted you to know, my move into Tyr is n...</td>\n",
       "      <td>False</td>\n",
       "      <td>False</td>\n",
       "    </tr>\n",
       "    <tr>\n",
       "      <th>1315</th>\n",
       "      <td>Would you be willing to support Tyr to venice?...</td>\n",
       "      <td>False</td>\n",
       "      <td>False</td>\n",
       "    </tr>\n",
       "    <tr>\n",
       "      <th>1318</th>\n",
       "      <td>Ok, I didn't think Germany would betray me but...</td>\n",
       "      <td>False</td>\n",
       "      <td>False</td>\n",
       "    </tr>\n",
       "    <tr>\n",
       "      <th>1320</th>\n",
       "      <td>You and Turkey are the most importand. Italy a...</td>\n",
       "      <td>False</td>\n",
       "      <td>False</td>\n",
       "    </tr>\n",
       "    <tr>\n",
       "      <th>1358</th>\n",
       "      <td>sorry was off the grid with no internet for th...</td>\n",
       "      <td>True</td>\n",
       "      <td>False</td>\n",
       "    </tr>\n",
       "    <tr>\n",
       "      <th>1375</th>\n",
       "      <td>How do you know they are plotting each-others ...</td>\n",
       "      <td>False</td>\n",
       "      <td>False</td>\n",
       "    </tr>\n",
       "    <tr>\n",
       "      <th>1384</th>\n",
       "      <td>Hey England, how are you? I would like to disc...</td>\n",
       "      <td>False</td>\n",
       "      <td>False</td>\n",
       "    </tr>\n",
       "    <tr>\n",
       "      <th>1387</th>\n",
       "      <td>I'm going to do a standard opening too, MAO, S...</td>\n",
       "      <td>False</td>\n",
       "      <td>False</td>\n",
       "    </tr>\n",
       "    <tr>\n",
       "      <th>1390</th>\n",
       "      <td>Ok, I didn't think Germany would betray me but...</td>\n",
       "      <td>False</td>\n",
       "      <td>False</td>\n",
       "    </tr>\n",
       "    <tr>\n",
       "      <th>1406</th>\n",
       "      <td>All I heard was that they and russia were goin...</td>\n",
       "      <td>False</td>\n",
       "      <td>False</td>\n",
       "    </tr>\n",
       "    <tr>\n",
       "      <th>1410</th>\n",
       "      <td>Ok, I didn't think Germany would betray me but...</td>\n",
       "      <td>False</td>\n",
       "      <td>False</td>\n",
       "    </tr>\n",
       "    <tr>\n",
       "      <th>1412</th>\n",
       "      <td>You and Austria are the most importand. Italy ...</td>\n",
       "      <td>False</td>\n",
       "      <td>False</td>\n",
       "    </tr>\n",
       "  </tbody>\n",
       "</table>\n",
       "</div>"
      ],
      "text/plain": [
       "                                               Messages  Prediction Reality\n",
       "163   Neither of us have a good reason to stab you, ...       False   False\n",
       "165     I’ll do that, it keeps turkey from snagging Gre        True   False\n",
       "167   So am I, I’d expect they go through me before ...        True   False\n",
       "304   I would say Trieste, Greece to me, and then Se...        True   False\n",
       "333   On the other hand, I’m not sure I want to atta...       False   False\n",
       "404   I also thought I would let you know that I hea...       False   False\n",
       "405   So... I guess your new? What do you think abou...       False   False\n",
       "421   While that might be true, what would you sugge...        True   False\n",
       "429   I am willing to concede it to you if you coope...        True   False\n",
       "430   Hmm. I messaged austria, and they didn't respo...       False   False\n",
       "432   If we demilitarize and I can focus on recaptur...        True   False\n",
       "433   Ok, I didn't think Germany would betray me but...       False   False\n",
       "630   Well, probably going to finish off the Brits, ...       False   False\n",
       "662   There is no way that I can, no way turkey does...        True   False\n",
       "678                                Why would I do that?        True   False\n",
       "744   Also, you working with the Turks? I can help h...        True   False\n",
       "746                        Of course, can I get Vienna?       False   False\n",
       "750   I am so friggin' sorry, I was toying around wi...        True   False\n",
       "752   Well that's France, of course they would tell ...        True   False\n",
       "771   I don't trust the French not to try to play me...       False   False\n",
       "773   On second thought, the fact that the French do...        True   False\n",
       "780   Look man, the French have been pretty agreeabl...        True   False\n",
       "815   You working with the Russians? If so I can def...        True   False\n",
       "845   I’m a little hesitant to go after Austria righ...        True   False\n",
       "865   I spoke to England and they don't seem like a ...       False   False\n",
       "874   I don't trust the French not to try to play me...       False   False\n",
       "886   To be honest I wouldn't be to worried about Ru...       False   False\n",
       "907                     Sent it along, in my own words.        True   False\n",
       "966   Do you still want belgium? At this point our b...       False   False\n",
       "1025                                                Yes        True   False\n",
       "1027  I could also support you if you want to do it ...       False   False\n",
       "1036                Okay great, I’ll head into Rum then        True   False\n",
       "1045                                   I’ll move Ser in        True   False\n",
       "1050                  If you think I should then I will       False   False\n",
       "1116  Yeah you as well, it’s good to find people tha...       False   False\n",
       "1177                                 Okay it’s all good       False   False\n",
       "1199  I mean, sure. Which unit is going in? I can su...       False   False\n",
       "1201                                    Gal is going in       False   False\n",
       "1203  Are you coordinating with him? I’d just dislod...       False   False\n",
       "1206                                 I’m still not sure        True   False\n",
       "1228  Not probable, but possible.  but it makes sens...        True   False\n",
       "1247         Germany is asking for support into Moscow.       False   False\n",
       "1300  Yeah, how about germany? I’ve been talking to ...        True   False\n",
       "1305  Thanks. I would like you to re-consider my pro...       False   False\n",
       "1311  Just wanted you to know, my move into Tyr is n...       False   False\n",
       "1315  Would you be willing to support Tyr to venice?...       False   False\n",
       "1318  Ok, I didn't think Germany would betray me but...       False   False\n",
       "1320  You and Turkey are the most importand. Italy a...       False   False\n",
       "1358  sorry was off the grid with no internet for th...        True   False\n",
       "1375  How do you know they are plotting each-others ...       False   False\n",
       "1384  Hey England, how are you? I would like to disc...       False   False\n",
       "1387  I'm going to do a standard opening too, MAO, S...       False   False\n",
       "1390  Ok, I didn't think Germany would betray me but...       False   False\n",
       "1406  All I heard was that they and russia were goin...       False   False\n",
       "1410  Ok, I didn't think Germany would betray me but...       False   False\n",
       "1412  You and Austria are the most importand. Italy ...       False   False"
      ]
     },
     "execution_count": 31,
     "metadata": {},
     "output_type": "execute_result"
    }
   ],
   "source": [
    "val_results.loc[val_results['Reality'] == False]"
   ]
  },
  {
   "cell_type": "code",
   "execution_count": null,
   "id": "1caa7be8",
   "metadata": {},
   "outputs": [],
   "source": []
  },
  {
   "cell_type": "code",
   "execution_count": null,
   "id": "3a83b387",
   "metadata": {},
   "outputs": [],
   "source": []
  },
  {
   "cell_type": "markdown",
   "id": "350b9ebd",
   "metadata": {},
   "source": [
    "### Test"
   ]
  },
  {
   "cell_type": "code",
   "execution_count": 32,
   "id": "fa1f9560",
   "metadata": {},
   "outputs": [
    {
     "name": "stdout",
     "output_type": "stream",
     "text": [
      "              precision    recall  f1-score   support\n",
      "\n",
      "       False       0.11      0.48      0.18       240\n",
      "        True       0.93      0.63      0.75      2501\n",
      "\n",
      "    accuracy                           0.61      2741\n",
      "   macro avg       0.52      0.55      0.46      2741\n",
      "weighted avg       0.86      0.61      0.70      2741\n",
      "\n"
     ]
    },
    {
     "data": {
      "text/html": [
       "<div>\n",
       "<style scoped>\n",
       "    .dataframe tbody tr th:only-of-type {\n",
       "        vertical-align: middle;\n",
       "    }\n",
       "\n",
       "    .dataframe tbody tr th {\n",
       "        vertical-align: top;\n",
       "    }\n",
       "\n",
       "    .dataframe thead th {\n",
       "        text-align: right;\n",
       "    }\n",
       "</style>\n",
       "<table border=\"1\" class=\"dataframe\">\n",
       "  <thead>\n",
       "    <tr style=\"text-align: right;\">\n",
       "      <th></th>\n",
       "      <th>Messages</th>\n",
       "      <th>Prediction</th>\n",
       "      <th>Reality</th>\n",
       "    </tr>\n",
       "  </thead>\n",
       "  <tbody>\n",
       "    <tr>\n",
       "      <th>0</th>\n",
       "      <td>Hi Italy! Just opening up communication, and I...</td>\n",
       "      <td>False</td>\n",
       "      <td>True</td>\n",
       "    </tr>\n",
       "    <tr>\n",
       "      <th>1</th>\n",
       "      <td>Well....that's a great question, and a lot of ...</td>\n",
       "      <td>False</td>\n",
       "      <td>True</td>\n",
       "    </tr>\n",
       "    <tr>\n",
       "      <th>2</th>\n",
       "      <td>Well, if you want to attack France in the Medi...</td>\n",
       "      <td>False</td>\n",
       "      <td>True</td>\n",
       "    </tr>\n",
       "    <tr>\n",
       "      <th>3</th>\n",
       "      <td>Hello, I'm just asking about your move to Tyro...</td>\n",
       "      <td>True</td>\n",
       "      <td>True</td>\n",
       "    </tr>\n",
       "    <tr>\n",
       "      <th>4</th>\n",
       "      <td>Totally understandable - but did you notice th...</td>\n",
       "      <td>False</td>\n",
       "      <td>True</td>\n",
       "    </tr>\n",
       "    <tr>\n",
       "      <th>...</th>\n",
       "      <td>...</td>\n",
       "      <td>...</td>\n",
       "      <td>...</td>\n",
       "    </tr>\n",
       "    <tr>\n",
       "      <th>2736</th>\n",
       "      <td>Interesting, I didn't mean to take Naples- I f...</td>\n",
       "      <td>False</td>\n",
       "      <td>False</td>\n",
       "    </tr>\n",
       "    <tr>\n",
       "      <th>2737</th>\n",
       "      <td>Interesting choice to move to Albania as it me...</td>\n",
       "      <td>True</td>\n",
       "      <td>True</td>\n",
       "    </tr>\n",
       "    <tr>\n",
       "      <th>2738</th>\n",
       "      <td>*Austria can retreat to Greece</td>\n",
       "      <td>True</td>\n",
       "      <td>True</td>\n",
       "    </tr>\n",
       "    <tr>\n",
       "      <th>2739</th>\n",
       "      <td>This game is over, spending more than 2 minute...</td>\n",
       "      <td>False</td>\n",
       "      <td>True</td>\n",
       "    </tr>\n",
       "    <tr>\n",
       "      <th>2740</th>\n",
       "      <td>Well. I was trying to get you to not take Trie...</td>\n",
       "      <td>False</td>\n",
       "      <td>True</td>\n",
       "    </tr>\n",
       "  </tbody>\n",
       "</table>\n",
       "<p>2741 rows × 3 columns</p>\n",
       "</div>"
      ],
      "text/plain": [
       "                                               Messages  Prediction Reality\n",
       "0     Hi Italy! Just opening up communication, and I...       False    True\n",
       "1     Well....that's a great question, and a lot of ...       False    True\n",
       "2     Well, if you want to attack France in the Medi...       False    True\n",
       "3     Hello, I'm just asking about your move to Tyro...        True    True\n",
       "4     Totally understandable - but did you notice th...       False    True\n",
       "...                                                 ...         ...     ...\n",
       "2736  Interesting, I didn't mean to take Naples- I f...       False   False\n",
       "2737  Interesting choice to move to Albania as it me...        True    True\n",
       "2738                     *Austria can retreat to Greece        True    True\n",
       "2739  This game is over, spending more than 2 minute...       False    True\n",
       "2740  Well. I was trying to get you to not take Trie...       False    True\n",
       "\n",
       "[2741 rows x 3 columns]"
      ]
     },
     "execution_count": 32,
     "metadata": {},
     "output_type": "execute_result"
    }
   ],
   "source": [
    "test_df = read_messages_from_file('test.jsonl')\n",
    "evaluate(classifier, test_df['messages'], test_df['sender_labels'])"
   ]
  },
  {
   "cell_type": "code",
   "execution_count": null,
   "id": "6efecca7",
   "metadata": {},
   "outputs": [],
   "source": []
  },
  {
   "cell_type": "code",
   "execution_count": 33,
   "id": "c51d3914",
   "metadata": {},
   "outputs": [
    {
     "name": "stdout",
     "output_type": "stream",
     "text": [
      "              precision    recall  f1-score   support\n",
      "\n",
      "       False       1.00      1.00      1.00         1\n",
      "\n",
      "    accuracy                           1.00         1\n",
      "   macro avg       1.00      1.00      1.00         1\n",
      "weighted avg       1.00      1.00      1.00         1\n",
      "\n"
     ]
    },
    {
     "data": {
      "text/html": [
       "<div>\n",
       "<style scoped>\n",
       "    .dataframe tbody tr th:only-of-type {\n",
       "        vertical-align: middle;\n",
       "    }\n",
       "\n",
       "    .dataframe tbody tr th {\n",
       "        vertical-align: top;\n",
       "    }\n",
       "\n",
       "    .dataframe thead th {\n",
       "        text-align: right;\n",
       "    }\n",
       "</style>\n",
       "<table border=\"1\" class=\"dataframe\">\n",
       "  <thead>\n",
       "    <tr style=\"text-align: right;\">\n",
       "      <th></th>\n",
       "      <th>Messages</th>\n",
       "      <th>Prediction</th>\n",
       "      <th>Reality</th>\n",
       "    </tr>\n",
       "  </thead>\n",
       "  <tbody>\n",
       "    <tr>\n",
       "      <th>0</th>\n",
       "      <td>Austria won't move ADR out, they'll support Ve...</td>\n",
       "      <td>False</td>\n",
       "      <td>False</td>\n",
       "    </tr>\n",
       "  </tbody>\n",
       "</table>\n",
       "</div>"
      ],
      "text/plain": [
       "                                            Messages  Prediction  Reality\n",
       "0  Austria won't move ADR out, they'll support Ve...       False    False"
      ]
     },
     "execution_count": 33,
     "metadata": {},
     "output_type": "execute_result"
    }
   ],
   "source": [
    "# Test on own message\n",
    "test_message1 = \"Austria won't move ADR out, they'll support Ven with it I imagine.\" \\\n",
    "               \"I'm not quite sure whether I can trust you so it may take me a turn or two to see.\" \\\n",
    "               \"I'll attack Ven and if you can support with Rom that would be most appreciated. \"\n",
    "test_label1 = False\n",
    "evaluate(classifier, [test_message1], [test_label1])"
   ]
  },
  {
   "cell_type": "code",
   "execution_count": 34,
   "id": "bf609fb6",
   "metadata": {},
   "outputs": [
    {
     "name": "stdout",
     "output_type": "stream",
     "text": [
      "              precision    recall  f1-score   support\n",
      "\n",
      "        True       1.00      1.00      1.00         1\n",
      "\n",
      "    accuracy                           1.00         1\n",
      "   macro avg       1.00      1.00      1.00         1\n",
      "weighted avg       1.00      1.00      1.00         1\n",
      "\n"
     ]
    },
    {
     "data": {
      "text/html": [
       "<div>\n",
       "<style scoped>\n",
       "    .dataframe tbody tr th:only-of-type {\n",
       "        vertical-align: middle;\n",
       "    }\n",
       "\n",
       "    .dataframe tbody tr th {\n",
       "        vertical-align: top;\n",
       "    }\n",
       "\n",
       "    .dataframe thead th {\n",
       "        text-align: right;\n",
       "    }\n",
       "</style>\n",
       "<table border=\"1\" class=\"dataframe\">\n",
       "  <thead>\n",
       "    <tr style=\"text-align: right;\">\n",
       "      <th></th>\n",
       "      <th>Messages</th>\n",
       "      <th>Prediction</th>\n",
       "      <th>Reality</th>\n",
       "    </tr>\n",
       "  </thead>\n",
       "  <tbody>\n",
       "    <tr>\n",
       "      <th>0</th>\n",
       "      <td>Sorry I also meant should I move to Rom so you...</td>\n",
       "      <td>True</td>\n",
       "      <td>True</td>\n",
       "    </tr>\n",
       "  </tbody>\n",
       "</table>\n",
       "</div>"
      ],
      "text/plain": [
       "                                            Messages  Prediction  Reality\n",
       "0  Sorry I also meant should I move to Rom so you...        True     True"
      ]
     },
     "execution_count": 34,
     "metadata": {},
     "output_type": "execute_result"
    }
   ],
   "source": [
    "test_message2 = \"Sorry I also meant should I move to Rom so you can take Nap with APU? \" \\\n",
    "                \"otherwise you will need to lose two armies.\"\n",
    "test_label2 = True\n",
    "evaluate(classifier, [test_message2], [test_label2])"
   ]
  },
  {
   "cell_type": "code",
   "execution_count": null,
   "id": "6e75d7a8",
   "metadata": {},
   "outputs": [],
   "source": []
  },
  {
   "cell_type": "code",
   "execution_count": null,
   "id": "d38ee26b",
   "metadata": {},
   "outputs": [],
   "source": []
  },
  {
   "cell_type": "code",
   "execution_count": null,
   "id": "be0e38f7",
   "metadata": {},
   "outputs": [],
   "source": []
  },
  {
   "cell_type": "code",
   "execution_count": null,
   "id": "718bdfec",
   "metadata": {},
   "outputs": [],
   "source": []
  },
  {
   "cell_type": "code",
   "execution_count": 374,
   "id": "5c2be870",
   "metadata": {},
   "outputs": [],
   "source": []
  },
  {
   "cell_type": "code",
   "execution_count": 529,
   "id": "59303ca6",
   "metadata": {},
   "outputs": [
    {
     "data": {
      "text/plain": [
       "'a'"
      ]
     },
     "execution_count": 529,
     "metadata": {},
     "output_type": "execute_result"
    }
   ],
   "source": [
    "remove_emojis('👍🤦a')\n"
   ]
  },
  {
   "cell_type": "code",
   "execution_count": 376,
   "id": "90a42e1c",
   "metadata": {},
   "outputs": [],
   "source": [
    "def read_messages_from_file(filename):\n",
    "    games = []\n",
    "\n",
    "    with open(filename) as f:\n",
    "        for line in f:\n",
    "            game = json.loads(line)\n",
    "            games.append(game)\n",
    "            \n",
    "    messages = []\n",
    "    labels = []\n",
    "    print('Features', games[0].keys())\n",
    "\n",
    "    for m in [game.get('messages') for game in games]:\n",
    "        messages.extend(m)\n",
    "\n",
    "    for label in [game.get('sender_labels') for game in games]:\n",
    "        labels.extend(label)\n",
    "        \n",
    "    return messages, labels"
   ]
  },
  {
   "cell_type": "code",
   "execution_count": 377,
   "id": "0300d052",
   "metadata": {},
   "outputs": [
    {
     "name": "stdout",
     "output_type": "stream",
     "text": [
      "Features dict_keys(['messages', 'sender_labels', 'receiver_labels', 'speakers', 'receivers', 'absolute_message_index', 'relative_message_index', 'seasons', 'years', 'game_score', 'game_score_delta', 'players', 'game_id'])\n"
     ]
    }
   ],
   "source": [
    "training_messages, training_labels = read_messages_from_file('train.jsonl')"
   ]
  },
  {
   "cell_type": "code",
   "execution_count": 378,
   "id": "fbdc2cc7",
   "metadata": {},
   "outputs": [
    {
     "data": {
      "text/plain": [
       "(13132, 13132)"
      ]
     },
     "execution_count": 378,
     "metadata": {},
     "output_type": "execute_result"
    }
   ],
   "source": [
    "len(training_messages), len(training_labels)"
   ]
  },
  {
   "cell_type": "code",
   "execution_count": 272,
   "id": "c4a4f194",
   "metadata": {},
   "outputs": [
    {
     "data": {
      "text/plain": [
       "{False, True}"
      ]
     },
     "execution_count": 272,
     "metadata": {},
     "output_type": "execute_result"
    }
   ],
   "source": [
    "set(training_labels)"
   ]
  },
  {
   "cell_type": "code",
   "execution_count": 273,
   "id": "6ad803f3",
   "metadata": {},
   "outputs": [
    {
     "data": {
      "text/plain": [
       "['Germany!\\n\\nJust the person I want to speak with. I have a somewhat crazy idea that I’ve always wanted to try with I/G, but I’ve never actually convinced the other guy to try it. And, what’s worse, it might make you suspicious of me. \\n\\nSo...do I suggest it?\\n\\nI’m thinking that this is a low stakes game, not a tournament or anything, and an interesting and unusual move set might make it more fun? That’s my hope anyway.\\n\\nWhat is your appetite like for unusual and crazy?',\n",
       " \"You've whet my appetite, Italy. What's the suggestion?\",\n",
       " '👍']"
      ]
     },
     "execution_count": 273,
     "metadata": {},
     "output_type": "execute_result"
    }
   ],
   "source": [
    "training_messages[:3]"
   ]
  },
  {
   "cell_type": "code",
   "execution_count": 274,
   "id": "05b110ca",
   "metadata": {},
   "outputs": [],
   "source": [
    "stopwords = nltk.corpus.stopwords.words('english')\n",
    "lemmatizer = WordNetLemmatizer()"
   ]
  },
  {
   "cell_type": "code",
   "execution_count": 275,
   "id": "923734ea",
   "metadata": {},
   "outputs": [],
   "source": [
    "punctuations = string.punctuation + '\\’\\”.'"
   ]
  },
  {
   "cell_type": "code",
   "execution_count": 294,
   "id": "fd59fea9",
   "metadata": {},
   "outputs": [],
   "source": [
    "def tokenize_and_stem(message):\n",
    "    message = (message.replace('\\n', ' ')\n",
    "                      .replace('-', ' - ')\n",
    "                      .replace('...', ' ')\n",
    "                      .replace('???', '?')\n",
    "              )\n",
    "    message = remove_emojis(message)\n",
    "    tokens = nltk.tokenize.casual.casual_tokenize(message, reduce_len=True)\n",
    "    tokens = [t for t in tokens if t not in stopwords and t not in punctuations]\n",
    "#     lemma = [lemmatizer.lemmatize(token) for token in tokens]\n",
    "    \n",
    "#     print(message, '\\n' ,tokens)\n",
    "    return tokens"
   ]
  },
  {
   "cell_type": "code",
   "execution_count": 295,
   "id": "c5a755c9",
   "metadata": {},
   "outputs": [],
   "source": [
    "def create_vectorizer(training_data):\n",
    "    vectorizer = TfidfVectorizer(max_df=0.90,\n",
    "                                 max_features=100000,\n",
    "                                 min_df=0.05,\n",
    "                                 stop_words=stopwords,\n",
    "                                 use_idf=True,\n",
    "                                 tokenizer=tokenize_and_stem,\n",
    "                                 ngram_range=(1,3)\n",
    "                                )\n",
    "    vectorizer.fit_transform(training_data)\n",
    "    return vectorizer"
   ]
  },
  {
   "cell_type": "code",
   "execution_count": 296,
   "id": "47b1ea3d",
   "metadata": {},
   "outputs": [],
   "source": [
    "def train_message_classifier(X_train, y_train):\n",
    "    classifier = svm.SVC(C=1, kernel='linear', decision_function_shape='ovo')\n",
    "    classifier.fit(X_train, y_train)\n",
    "    return classifier"
   ]
  },
  {
   "cell_type": "code",
   "execution_count": 297,
   "id": "c3dfd590",
   "metadata": {},
   "outputs": [],
   "source": [
    "vectorizer = create_vectorizer(training_messages)\n",
    "# print(np.array(vectorizer.get_feature_names()))\n",
    "training_matrix = vectorizer.transform(training_messages).todense()\n",
    "classifier = train_message_classifier(training_matrix, training_labels)"
   ]
  },
  {
   "cell_type": "code",
   "execution_count": null,
   "id": "e9ff9148",
   "metadata": {},
   "outputs": [],
   "source": []
  },
  {
   "cell_type": "code",
   "execution_count": 369,
   "id": "aa2b23cc",
   "metadata": {},
   "outputs": [],
   "source": [
    "def evaluate(classifier, messages, real_labels):\n",
    "    validation_matrix = vectorizer.transform(messages).todense()\n",
    "    predictions = classifier.predict(validation_matrix)\n",
    "\n",
    "    \n",
    "    print(classification_report(real_labels, predictions))\n",
    "    print('\\n')\n",
    "\n",
    "#     print(list(predictions), list(real_labels))\n",
    "    df = pd.DataFrame({\n",
    "        'Messages': messages,\n",
    "        'Prediction': list(predictions),\n",
    "        'Reality': real_labels,\n",
    "    })\n",
    "#     return df\n",
    "    return df.loc[df['Prediction'] != df['Reality']]"
   ]
  },
  {
   "cell_type": "code",
   "execution_count": null,
   "id": "08524975",
   "metadata": {},
   "outputs": [],
   "source": []
  },
  {
   "cell_type": "markdown",
   "id": "40cda927",
   "metadata": {},
   "source": [
    "### Validate"
   ]
  },
  {
   "cell_type": "code",
   "execution_count": 370,
   "id": "121376fd",
   "metadata": {},
   "outputs": [],
   "source": [
    "validation_messages, validation_labels = read_messages_from_file('validation.jsonl')"
   ]
  },
  {
   "cell_type": "code",
   "execution_count": 371,
   "id": "85c655bb",
   "metadata": {},
   "outputs": [
    {
     "data": {
      "text/plain": [
       "(1416, 1416)"
      ]
     },
     "execution_count": 371,
     "metadata": {},
     "output_type": "execute_result"
    }
   ],
   "source": [
    "len(validation_messages), len(validation_labels)"
   ]
  },
  {
   "cell_type": "code",
   "execution_count": 372,
   "id": "9ea3402c",
   "metadata": {},
   "outputs": [
    {
     "name": "stdout",
     "output_type": "stream",
     "text": [
      "              precision    recall  f1-score   support\n",
      "\n",
      "       False       0.00      0.00      0.00        56\n",
      "        True       0.96      1.00      0.98      1360\n",
      "\n",
      "    accuracy                           0.96      1416\n",
      "   macro avg       0.48      0.50      0.49      1416\n",
      "weighted avg       0.92      0.96      0.94      1416\n",
      "\n",
      "\n",
      "\n"
     ]
    },
    {
     "data": {
      "text/html": [
       "<div>\n",
       "<style scoped>\n",
       "    .dataframe tbody tr th:only-of-type {\n",
       "        vertical-align: middle;\n",
       "    }\n",
       "\n",
       "    .dataframe tbody tr th {\n",
       "        vertical-align: top;\n",
       "    }\n",
       "\n",
       "    .dataframe thead th {\n",
       "        text-align: right;\n",
       "    }\n",
       "</style>\n",
       "<table border=\"1\" class=\"dataframe\">\n",
       "  <thead>\n",
       "    <tr style=\"text-align: right;\">\n",
       "      <th></th>\n",
       "      <th>Messages</th>\n",
       "      <th>Prediction</th>\n",
       "      <th>Reality</th>\n",
       "    </tr>\n",
       "  </thead>\n",
       "  <tbody>\n",
       "    <tr>\n",
       "      <th>163</th>\n",
       "      <td>Neither of us have a good reason to stab you, ...</td>\n",
       "      <td>True</td>\n",
       "      <td>False</td>\n",
       "    </tr>\n",
       "    <tr>\n",
       "      <th>165</th>\n",
       "      <td>I’ll do that, it keeps turkey from snagging Gre</td>\n",
       "      <td>True</td>\n",
       "      <td>False</td>\n",
       "    </tr>\n",
       "    <tr>\n",
       "      <th>167</th>\n",
       "      <td>So am I, I’d expect they go through me before ...</td>\n",
       "      <td>True</td>\n",
       "      <td>False</td>\n",
       "    </tr>\n",
       "    <tr>\n",
       "      <th>304</th>\n",
       "      <td>I would say Trieste, Greece to me, and then Se...</td>\n",
       "      <td>True</td>\n",
       "      <td>False</td>\n",
       "    </tr>\n",
       "    <tr>\n",
       "      <th>333</th>\n",
       "      <td>On the other hand, I’m not sure I want to atta...</td>\n",
       "      <td>True</td>\n",
       "      <td>False</td>\n",
       "    </tr>\n",
       "  </tbody>\n",
       "</table>\n",
       "</div>"
      ],
      "text/plain": [
       "                                              Messages  Prediction  Reality\n",
       "163  Neither of us have a good reason to stab you, ...        True    False\n",
       "165    I’ll do that, it keeps turkey from snagging Gre        True    False\n",
       "167  So am I, I’d expect they go through me before ...        True    False\n",
       "304  I would say Trieste, Greece to me, and then Se...        True    False\n",
       "333  On the other hand, I’m not sure I want to atta...        True    False"
      ]
     },
     "execution_count": 372,
     "metadata": {},
     "output_type": "execute_result"
    }
   ],
   "source": [
    "wrong_predictions = evaluate(classifier, validation_messages, validation_labels)\n",
    "wrong_predictions.head()"
   ]
  },
  {
   "cell_type": "code",
   "execution_count": null,
   "id": "58503b2e",
   "metadata": {},
   "outputs": [],
   "source": []
  },
  {
   "cell_type": "code",
   "execution_count": 74,
   "id": "6d2e31c4",
   "metadata": {},
   "outputs": [
    {
     "name": "stdout",
     "output_type": "stream",
     "text": [
      "Our interests are aligned in both sides of the map, so let's just coordinate closely True\n"
     ]
    }
   ],
   "source": [
    "# from test set\n",
    "test_message = validation_messages[25]\n",
    "test_label = validation_labels[25]\n",
    "print(test_message, test_label)"
   ]
  },
  {
   "cell_type": "code",
   "execution_count": 75,
   "id": "97759e47",
   "metadata": {},
   "outputs": [
    {
     "name": "stdout",
     "output_type": "stream",
     "text": [
      "Prediction: [ True]\n",
      "              precision    recall  f1-score   support\n",
      "\n",
      "        True       1.00      1.00      1.00         1\n",
      "\n",
      "    accuracy                           1.00         1\n",
      "   macro avg       1.00      1.00      1.00         1\n",
      "weighted avg       1.00      1.00      1.00         1\n",
      "\n"
     ]
    }
   ],
   "source": [
    "test_matrix = vectorizer.transform([test_message]).todense()\n",
    "evaluate(classifier, test_matrix, [test_label])"
   ]
  },
  {
   "cell_type": "code",
   "execution_count": 76,
   "id": "8ea904b3",
   "metadata": {},
   "outputs": [
    {
     "name": "stdout",
     "output_type": "stream",
     "text": [
      "Prediction: [ True]\n",
      "              precision    recall  f1-score   support\n",
      "\n",
      "       False       0.00      0.00      0.00       1.0\n",
      "        True       0.00      0.00      0.00       0.0\n",
      "\n",
      "    accuracy                           0.00       1.0\n",
      "   macro avg       0.00      0.00      0.00       1.0\n",
      "weighted avg       0.00      0.00      0.00       1.0\n",
      "\n"
     ]
    }
   ],
   "source": [
    "# own message\n",
    "test_message = \"I'm going for Ven this round. Get your army ready!\"\n",
    "test_label = False\n",
    "\n",
    "test_matrix = vectorizer.transform([test_message]).todense()\n",
    "evaluate(classifier, test_matrix, [test_label])\n"
   ]
  },
  {
   "cell_type": "code",
   "execution_count": null,
   "id": "3e2bdbfb",
   "metadata": {},
   "outputs": [],
   "source": []
  },
  {
   "cell_type": "code",
   "execution_count": 58,
   "id": "5a885168",
   "metadata": {},
   "outputs": [
    {
     "name": "stdout",
     "output_type": "stream",
     "text": [
      "Normal method\n",
      "['hi', 'hello']\n",
      "stop playing\n"
     ]
    }
   ],
   "source": [
    "class Music:\n",
    "    COLS = ['hi', 'hello']\n",
    "    \n",
    "    def trycall(self):\n",
    "        print('Normal method')\n",
    "        print(self.COLS)\n",
    "#         self.stop()\n",
    "        self.__class__.stop()\n",
    "#         self.play()\n",
    "        \n",
    "    @classmethod\n",
    "    def play(cls):\n",
    "        print(\"*playing music*\")\n",
    "        cls.stop()\n",
    "    \n",
    "    \n",
    "    def stop():\n",
    "        print(\"stop playing\")\n",
    "\n",
    "# Music.play()\n",
    "music = Music()\n",
    "music.trycall()"
   ]
  },
  {
   "cell_type": "code",
   "execution_count": null,
   "id": "c0a8254c",
   "metadata": {},
   "outputs": [],
   "source": []
  }
 ],
 "metadata": {
  "kernelspec": {
   "display_name": "Python 3",
   "language": "python",
   "name": "python3"
  },
  "language_info": {
   "codemirror_mode": {
    "name": "ipython",
    "version": 3
   },
   "file_extension": ".py",
   "mimetype": "text/x-python",
   "name": "python",
   "nbconvert_exporter": "python",
   "pygments_lexer": "ipython3",
   "version": "3.8.8"
  }
 },
 "nbformat": 4,
 "nbformat_minor": 5
}
